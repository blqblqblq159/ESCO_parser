{
 "cells": [
  {
   "cell_type": "markdown",
   "id": "154112a4",
   "metadata": {},
   "source": [
    "# job recommender\n",
    "In this notebook, we implement 2 recommendation patterns based on an embedding of our occupation-skills-people graph:\n",
    "- for each person, we predict which ESCO occupations they are likely to be proficient at.\n",
    "- for each ESCO occupation, we predict which people in our dataset are likely to be proficient at this occupation\n",
    "\n",
    "## Preliminaries\n",
    "\n",
    "We import some necessary libraries."
   ]
  },
  {
   "cell_type": "code",
   "execution_count": 1,
   "id": "4a3d2d59",
   "metadata": {},
   "outputs": [],
   "source": [
    "import pandas as pd\n",
    "import numpy as np\n",
    "import random\n",
    "from py2neo import Graph\n",
    "from sklearn.manifold import TSNE\n",
    "import seaborn as sns"
   ]
  },
  {
   "cell_type": "markdown",
   "id": "97577751",
   "metadata": {},
   "source": [
    "we import our slightly preprocessed people data. Every person in this dataset has some job history corresponding to the occupations in the ESCO dataset."
   ]
  },
  {
   "cell_type": "code",
   "execution_count": 2,
   "id": "bbe0e731",
   "metadata": {},
   "outputs": [
    {
     "data": {
      "text/html": [
       "<div>\n",
       "<style scoped>\n",
       "    .dataframe tbody tr th:only-of-type {\n",
       "        vertical-align: middle;\n",
       "    }\n",
       "\n",
       "    .dataframe tbody tr th {\n",
       "        vertical-align: top;\n",
       "    }\n",
       "\n",
       "    .dataframe thead th {\n",
       "        text-align: right;\n",
       "    }\n",
       "</style>\n",
       "<table border=\"1\" class=\"dataframe\">\n",
       "  <thead>\n",
       "    <tr style=\"text-align: right;\">\n",
       "      <th></th>\n",
       "      <th>Unnamed: 0</th>\n",
       "      <th>memberUrn</th>\n",
       "      <th>ageEstimate</th>\n",
       "      <th>companyName</th>\n",
       "      <th>companyStaffCount</th>\n",
       "      <th>companyUrl</th>\n",
       "      <th>mbrTitle</th>\n",
       "      <th>startDate</th>\n",
       "      <th>endDate</th>\n",
       "      <th>ESCO_job_title</th>\n",
       "      <th>predictionConfidence</th>\n",
       "    </tr>\n",
       "  </thead>\n",
       "  <tbody>\n",
       "    <tr>\n",
       "      <th>0</th>\n",
       "      <td>0</td>\n",
       "      <td>urn:li:member:10013136</td>\n",
       "      <td>41</td>\n",
       "      <td>Commonwealth Bank</td>\n",
       "      <td>32905.0</td>\n",
       "      <td>http://www.commbank.com.au/</td>\n",
       "      <td>Portfolio Executive at Commonwealth Bank</td>\n",
       "      <td>2007-01-02</td>\n",
       "      <td>01/07/2008</td>\n",
       "      <td>executive assistant</td>\n",
       "      <td>86.0</td>\n",
       "    </tr>\n",
       "    <tr>\n",
       "      <th>1</th>\n",
       "      <td>1</td>\n",
       "      <td>urn:li:member:10013136</td>\n",
       "      <td>41</td>\n",
       "      <td>CommSec</td>\n",
       "      <td>619.0</td>\n",
       "      <td>http://www.commsec.com.au</td>\n",
       "      <td>Portfolio Executive at Commonwealth Bank</td>\n",
       "      <td>2008-01-08</td>\n",
       "      <td>01/12/2012</td>\n",
       "      <td>executive assistant</td>\n",
       "      <td>86.0</td>\n",
       "    </tr>\n",
       "    <tr>\n",
       "      <th>2</th>\n",
       "      <td>2</td>\n",
       "      <td>urn:li:member:10013136</td>\n",
       "      <td>41</td>\n",
       "      <td>Commonwealth Bank</td>\n",
       "      <td>32905.0</td>\n",
       "      <td>http://www.commbank.com.au/</td>\n",
       "      <td>Portfolio Executive at Commonwealth Bank</td>\n",
       "      <td>2013-01-11</td>\n",
       "      <td>01/06/2014</td>\n",
       "      <td>executive assistant</td>\n",
       "      <td>86.0</td>\n",
       "    </tr>\n",
       "    <tr>\n",
       "      <th>3</th>\n",
       "      <td>3</td>\n",
       "      <td>urn:li:member:10013136</td>\n",
       "      <td>41</td>\n",
       "      <td>Commonwealth Bank</td>\n",
       "      <td>32905.0</td>\n",
       "      <td>http://www.commbank.com.au/</td>\n",
       "      <td>Portfolio Executive at Commonwealth Bank</td>\n",
       "      <td>2014-01-07</td>\n",
       "      <td>NaN</td>\n",
       "      <td>executive assistant</td>\n",
       "      <td>86.0</td>\n",
       "    </tr>\n",
       "    <tr>\n",
       "      <th>4</th>\n",
       "      <td>4</td>\n",
       "      <td>urn:li:member:100186032</td>\n",
       "      <td>30</td>\n",
       "      <td>Jigsaw Clothing</td>\n",
       "      <td>447.0</td>\n",
       "      <td>http://www.jigsaw-online.com</td>\n",
       "      <td>Senior Marketing Manager, PayPal</td>\n",
       "      <td>2009-01-01</td>\n",
       "      <td>01/12/2009</td>\n",
       "      <td>marketing manager</td>\n",
       "      <td>90.0</td>\n",
       "    </tr>\n",
       "  </tbody>\n",
       "</table>\n",
       "</div>"
      ],
      "text/plain": [
       "   Unnamed: 0                memberUrn  ageEstimate        companyName  \\\n",
       "0           0   urn:li:member:10013136           41  Commonwealth Bank   \n",
       "1           1   urn:li:member:10013136           41            CommSec   \n",
       "2           2   urn:li:member:10013136           41  Commonwealth Bank   \n",
       "3           3   urn:li:member:10013136           41  Commonwealth Bank   \n",
       "4           4  urn:li:member:100186032           30    Jigsaw Clothing   \n",
       "\n",
       "   companyStaffCount                    companyUrl  \\\n",
       "0            32905.0   http://www.commbank.com.au/   \n",
       "1              619.0     http://www.commsec.com.au   \n",
       "2            32905.0   http://www.commbank.com.au/   \n",
       "3            32905.0   http://www.commbank.com.au/   \n",
       "4              447.0  http://www.jigsaw-online.com   \n",
       "\n",
       "                                   mbrTitle   startDate     endDate  \\\n",
       "0  Portfolio Executive at Commonwealth Bank  2007-01-02  01/07/2008   \n",
       "1  Portfolio Executive at Commonwealth Bank  2008-01-08  01/12/2012   \n",
       "2  Portfolio Executive at Commonwealth Bank  2013-01-11  01/06/2014   \n",
       "3  Portfolio Executive at Commonwealth Bank  2014-01-07         NaN   \n",
       "4          Senior Marketing Manager, PayPal  2009-01-01  01/12/2009   \n",
       "\n",
       "        ESCO_job_title  predictionConfidence  \n",
       "0  executive assistant                  86.0  \n",
       "1  executive assistant                  86.0  \n",
       "2  executive assistant                  86.0  \n",
       "3  executive assistant                  86.0  \n",
       "4    marketing manager                  90.0  "
      ]
     },
     "execution_count": 2,
     "metadata": {},
     "output_type": "execute_result"
    }
   ],
   "source": [
    "df = pd.read_csv('../data/New_LinkedIn_users.csv')\n",
    "df.head()"
   ]
  },
  {
   "cell_type": "markdown",
   "id": "93274009",
   "metadata": {},
   "source": [
    "The people dataset is anonymous. Every person is annotated with a unique urn. Below is a test query to find the entire job history for one of the people in the dataset."
   ]
  },
  {
   "cell_type": "code",
   "execution_count": 3,
   "id": "01183537",
   "metadata": {},
   "outputs": [
    {
     "name": "stdout",
     "output_type": "stream",
     "text": [
      "['executive assistant', 'executive assistant', 'executive assistant', 'executive assistant']\n"
     ]
    }
   ],
   "source": [
    "#some test query to find the whole job history for a single person\n",
    "print(df[df['memberUrn']=='urn:li:member:10013136']['ESCO_job_title'].apply(pd.Series).stack().tolist())"
   ]
  },
  {
   "cell_type": "markdown",
   "id": "e33c41ec",
   "metadata": {},
   "source": [
    "We check out how many unique people are listed in the dateset."
   ]
  },
  {
   "cell_type": "code",
   "execution_count": 4,
   "id": "247c8c93",
   "metadata": {},
   "outputs": [
    {
     "name": "stdout",
     "output_type": "stream",
     "text": [
      "6853\n"
     ]
    }
   ],
   "source": [
    "unique_urns = list(set(df['memberUrn'].apply(pd.Series).stack().tolist()))\n",
    "print(len(unique_urns))"
   ]
  },
  {
   "cell_type": "markdown",
   "id": "cc3cbecd",
   "metadata": {},
   "source": [
    "Okay, we're working with 6853 people. We create a dataframe that holds every person and their entire job history."
   ]
  },
  {
   "cell_type": "code",
   "execution_count": 5,
   "id": "740991f3",
   "metadata": {},
   "outputs": [],
   "source": [
    "urn_jobhist = []\n",
    "for urn in unique_urns:\n",
    "    jobhist = df[df['memberUrn']==urn]['ESCO_job_title'].apply(pd.Series).stack().tolist()\n",
    "    urn_jobhist.append([urn,jobhist])\n",
    "urn_jobhist_df = pd.DataFrame(urn_jobhist,columns = [\"urn\", \"ESCO_job_history\"])"
   ]
  },
  {
   "cell_type": "code",
   "execution_count": 6,
   "id": "0a36f8b5",
   "metadata": {},
   "outputs": [
    {
     "data": {
      "text/html": [
       "<div>\n",
       "<style scoped>\n",
       "    .dataframe tbody tr th:only-of-type {\n",
       "        vertical-align: middle;\n",
       "    }\n",
       "\n",
       "    .dataframe tbody tr th {\n",
       "        vertical-align: top;\n",
       "    }\n",
       "\n",
       "    .dataframe thead th {\n",
       "        text-align: right;\n",
       "    }\n",
       "</style>\n",
       "<table border=\"1\" class=\"dataframe\">\n",
       "  <thead>\n",
       "    <tr style=\"text-align: right;\">\n",
       "      <th></th>\n",
       "      <th>urn</th>\n",
       "      <th>ESCO_job_history</th>\n",
       "    </tr>\n",
       "  </thead>\n",
       "  <tbody>\n",
       "    <tr>\n",
       "      <th>0</th>\n",
       "      <td>urn:li:member:18013610</td>\n",
       "      <td>[sales manager, sales manager, sales manager, ...</td>\n",
       "    </tr>\n",
       "    <tr>\n",
       "      <th>1</th>\n",
       "      <td>urn:li:member:237255922</td>\n",
       "      <td>[software analyst, software analyst, software ...</td>\n",
       "    </tr>\n",
       "    <tr>\n",
       "      <th>2</th>\n",
       "      <td>urn:li:member:315633918</td>\n",
       "      <td>[head of higher education institutions]</td>\n",
       "    </tr>\n",
       "    <tr>\n",
       "      <th>3</th>\n",
       "      <td>urn:li:member:156118673</td>\n",
       "      <td>[housing policy officer, housing policy officer]</td>\n",
       "    </tr>\n",
       "    <tr>\n",
       "      <th>4</th>\n",
       "      <td>urn:li:member:169303665</td>\n",
       "      <td>[clothing development manager]</td>\n",
       "    </tr>\n",
       "  </tbody>\n",
       "</table>\n",
       "</div>"
      ],
      "text/plain": [
       "                       urn                                   ESCO_job_history\n",
       "0   urn:li:member:18013610  [sales manager, sales manager, sales manager, ...\n",
       "1  urn:li:member:237255922  [software analyst, software analyst, software ...\n",
       "2  urn:li:member:315633918            [head of higher education institutions]\n",
       "3  urn:li:member:156118673   [housing policy officer, housing policy officer]\n",
       "4  urn:li:member:169303665                     [clothing development manager]"
      ]
     },
     "execution_count": 6,
     "metadata": {},
     "output_type": "execute_result"
    }
   ],
   "source": [
    "urn_jobhist_df.head()"
   ]
  },
  {
   "cell_type": "markdown",
   "id": "19806168",
   "metadata": {},
   "source": [
    "We load the dataset containing all the ESCO occupations with their respective essential skills and optional skills. This will be used to assign the people in our previous dataset some skills randomly based on their job history."
   ]
  },
  {
   "cell_type": "code",
   "execution_count": 8,
   "id": "5d00d5b5",
   "metadata": {},
   "outputs": [
    {
     "data": {
      "text/html": [
       "<div>\n",
       "<style scoped>\n",
       "    .dataframe tbody tr th:only-of-type {\n",
       "        vertical-align: middle;\n",
       "    }\n",
       "\n",
       "    .dataframe tbody tr th {\n",
       "        vertical-align: top;\n",
       "    }\n",
       "\n",
       "    .dataframe thead th {\n",
       "        text-align: right;\n",
       "    }\n",
       "</style>\n",
       "<table border=\"1\" class=\"dataframe\">\n",
       "  <thead>\n",
       "    <tr style=\"text-align: right;\">\n",
       "      <th></th>\n",
       "      <th>job_title</th>\n",
       "      <th>uri</th>\n",
       "      <th>essential_skills</th>\n",
       "      <th>optional_skills</th>\n",
       "    </tr>\n",
       "  </thead>\n",
       "  <tbody>\n",
       "    <tr>\n",
       "      <th>0</th>\n",
       "      <td>3D animator</td>\n",
       "      <td>http://data.europa.eu/esco/occupation/52df9d56...</td>\n",
       "      <td>['3D texturing', 'create 3D environments', 'pa...</td>\n",
       "      <td>['manage schedule of tasks', 'create animated ...</td>\n",
       "    </tr>\n",
       "    <tr>\n",
       "      <th>1</th>\n",
       "      <td>3D modeller</td>\n",
       "      <td>http://data.europa.eu/esco/occupation/bab5fa79...</td>\n",
       "      <td>['use polygonal modelling', 'develop creative ...</td>\n",
       "      <td>['C++', 'Smalltalk (computer programming)', 'c...</td>\n",
       "    </tr>\n",
       "    <tr>\n",
       "      <th>2</th>\n",
       "      <td>3D printing technician</td>\n",
       "      <td>http://data.europa.eu/esco/occupation/4cf7be91...</td>\n",
       "      <td>['use technical drawing software', 'create sol...</td>\n",
       "      <td>['CADD software', 'manual draughting technique...</td>\n",
       "    </tr>\n",
       "    <tr>\n",
       "      <th>3</th>\n",
       "      <td>abrasive blasting operator</td>\n",
       "      <td>http://data.europa.eu/esco/occupation/3c0af499...</td>\n",
       "      <td>['wear appropriate protective gear', 'remove i...</td>\n",
       "      <td>['set up the controller of a machine', 'monito...</td>\n",
       "    </tr>\n",
       "    <tr>\n",
       "      <th>4</th>\n",
       "      <td>absorbent pad machine operator</td>\n",
       "      <td>http://data.europa.eu/esco/occupation/c706886d...</td>\n",
       "      <td>['adhesives', 'supply machine', 'troubleshoot'...</td>\n",
       "      <td>['monitor paper reel', 'operate compression ro...</td>\n",
       "    </tr>\n",
       "  </tbody>\n",
       "</table>\n",
       "</div>"
      ],
      "text/plain": [
       "                        job_title  \\\n",
       "0                     3D animator   \n",
       "1                     3D modeller   \n",
       "2          3D printing technician   \n",
       "3      abrasive blasting operator   \n",
       "4  absorbent pad machine operator   \n",
       "\n",
       "                                                 uri  \\\n",
       "0  http://data.europa.eu/esco/occupation/52df9d56...   \n",
       "1  http://data.europa.eu/esco/occupation/bab5fa79...   \n",
       "2  http://data.europa.eu/esco/occupation/4cf7be91...   \n",
       "3  http://data.europa.eu/esco/occupation/3c0af499...   \n",
       "4  http://data.europa.eu/esco/occupation/c706886d...   \n",
       "\n",
       "                                    essential_skills  \\\n",
       "0  ['3D texturing', 'create 3D environments', 'pa...   \n",
       "1  ['use polygonal modelling', 'develop creative ...   \n",
       "2  ['use technical drawing software', 'create sol...   \n",
       "3  ['wear appropriate protective gear', 'remove i...   \n",
       "4  ['adhesives', 'supply machine', 'troubleshoot'...   \n",
       "\n",
       "                                     optional_skills  \n",
       "0  ['manage schedule of tasks', 'create animated ...  \n",
       "1  ['C++', 'Smalltalk (computer programming)', 'c...  \n",
       "2  ['CADD software', 'manual draughting technique...  \n",
       "3  ['set up the controller of a machine', 'monito...  \n",
       "4  ['monitor paper reel', 'operate compression ro...  "
      ]
     },
     "execution_count": 8,
     "metadata": {},
     "output_type": "execute_result"
    }
   ],
   "source": [
    "job_skills_df = pd.read_csv('../data/title_uri_skills.csv')\n",
    "job_skills_df.head()"
   ]
  },
  {
   "cell_type": "markdown",
   "id": "0e97742c",
   "metadata": {},
   "source": [
    "below is the script to assign skills to the people, important parameters are 'essential_persentage' and 'optional_percentage'. These numbers give a weighting of how likely a person with a certain occupation in their history will be assigned any of the essential or optional skills from this occupation."
   ]
  },
  {
   "cell_type": "code",
   "execution_count": 9,
   "id": "c9da4e16",
   "metadata": {},
   "outputs": [],
   "source": [
    "def assign_skills(df_in):\n",
    "    df = df_in.copy()\n",
    "    essential_percentage = 0.5\n",
    "    optional_percentage = 0.2\n",
    "    skills_list = []\n",
    "    for line in df.iterrows():\n",
    "        skills = set()\n",
    "        essential_percentage_per_occupation = essential_percentage# / len(line[1]['ESCO_job_history'])\n",
    "        optional_percentage_per_occupation = optional_percentage# / len(line[1]['ESCO_job_history'])\n",
    "        for job in line[1]['ESCO_job_history']:\n",
    "            #the try-except block are necessary, since some occupations do not have any associated skills, these would throw an error otherwise\n",
    "            try:\n",
    "                for e_skill in job_skills_df[job_skills_df['job_title']==job]['essential_skills'].item().replace('[','').replace(']','').replace(\"'\",'').split(','):\n",
    "                    if np.random.uniform() < essential_percentage_per_occupation:\n",
    "                        if e_skill.strip():\n",
    "                            skills.add(e_skill.strip())\n",
    "            except:\n",
    "                pass\n",
    "            try:\n",
    "                for o_skill in job_skills_df[job_skills_df['job_title']==job]['optional_skills'].item().replace('[','').replace(']','').replace(\"'\",'').split(','):\n",
    "                    if np.random.uniform() < optional_percentage_per_occupation:\n",
    "                        if o_skill.strip():\n",
    "                            skills.add(o_skill.strip())\n",
    "            except:\n",
    "                pass\n",
    "        skills_list.append(list(skills))\n",
    "    df['skills'] = skills_list\n",
    "    return df"
   ]
  },
  {
   "cell_type": "code",
   "execution_count": 10,
   "id": "0e500990",
   "metadata": {},
   "outputs": [
    {
     "data": {
      "text/html": [
       "<div>\n",
       "<style scoped>\n",
       "    .dataframe tbody tr th:only-of-type {\n",
       "        vertical-align: middle;\n",
       "    }\n",
       "\n",
       "    .dataframe tbody tr th {\n",
       "        vertical-align: top;\n",
       "    }\n",
       "\n",
       "    .dataframe thead th {\n",
       "        text-align: right;\n",
       "    }\n",
       "</style>\n",
       "<table border=\"1\" class=\"dataframe\">\n",
       "  <thead>\n",
       "    <tr style=\"text-align: right;\">\n",
       "      <th></th>\n",
       "      <th>urn</th>\n",
       "      <th>ESCO_job_history</th>\n",
       "      <th>skills</th>\n",
       "    </tr>\n",
       "  </thead>\n",
       "  <tbody>\n",
       "    <tr>\n",
       "      <th>0</th>\n",
       "      <td>urn:li:member:18013610</td>\n",
       "      <td>[sales manager, sales manager, sales manager, ...</td>\n",
       "      <td>[make strategic business decisions, prepare vi...</td>\n",
       "    </tr>\n",
       "    <tr>\n",
       "      <th>1</th>\n",
       "      <td>urn:li:member:237255922</td>\n",
       "      <td>[software analyst, software analyst, software ...</td>\n",
       "      <td>[C#, SAP R3, ensure compliance with company re...</td>\n",
       "    </tr>\n",
       "    <tr>\n",
       "      <th>2</th>\n",
       "      <td>urn:li:member:315633918</td>\n",
       "      <td>[head of higher education institutions]</td>\n",
       "      <td>[analyse curriculum, liaise with board members...</td>\n",
       "    </tr>\n",
       "    <tr>\n",
       "      <th>3</th>\n",
       "      <td>urn:li:member:156118673</td>\n",
       "      <td>[housing policy officer, housing policy officer]</td>\n",
       "      <td>[manage government policy implementation, real...</td>\n",
       "    </tr>\n",
       "    <tr>\n",
       "      <th>4</th>\n",
       "      <td>urn:li:member:169303665</td>\n",
       "      <td>[clothing development manager]</td>\n",
       "      <td>[distinguish accessories, portfolio management...</td>\n",
       "    </tr>\n",
       "  </tbody>\n",
       "</table>\n",
       "</div>"
      ],
      "text/plain": [
       "                       urn                                   ESCO_job_history  \\\n",
       "0   urn:li:member:18013610  [sales manager, sales manager, sales manager, ...   \n",
       "1  urn:li:member:237255922  [software analyst, software analyst, software ...   \n",
       "2  urn:li:member:315633918            [head of higher education institutions]   \n",
       "3  urn:li:member:156118673   [housing policy officer, housing policy officer]   \n",
       "4  urn:li:member:169303665                     [clothing development manager]   \n",
       "\n",
       "                                              skills  \n",
       "0  [make strategic business decisions, prepare vi...  \n",
       "1  [C#, SAP R3, ensure compliance with company re...  \n",
       "2  [analyse curriculum, liaise with board members...  \n",
       "3  [manage government policy implementation, real...  \n",
       "4  [distinguish accessories, portfolio management...  "
      ]
     },
     "execution_count": 10,
     "metadata": {},
     "output_type": "execute_result"
    }
   ],
   "source": [
    "df_with_skills = assign_skills(urn_jobhist_df)\n",
    "df_with_skills.head()"
   ]
  },
  {
   "cell_type": "markdown",
   "id": "ee841b4c",
   "metadata": {},
   "source": [
    "Some of the people in the dataset only have occupations in their history that do not have any associated skills according to the ESCO dataset. These people are then assigned no skills with our skill assignment algorithm. We remove these 'unskilled' people from our dataset, as we can not get proper predictions without skills."
   ]
  },
  {
   "cell_type": "code",
   "execution_count": 12,
   "id": "967a23e2",
   "metadata": {},
   "outputs": [
    {
     "data": {
      "text/html": [
       "<div>\n",
       "<style scoped>\n",
       "    .dataframe tbody tr th:only-of-type {\n",
       "        vertical-align: middle;\n",
       "    }\n",
       "\n",
       "    .dataframe tbody tr th {\n",
       "        vertical-align: top;\n",
       "    }\n",
       "\n",
       "    .dataframe thead th {\n",
       "        text-align: right;\n",
       "    }\n",
       "</style>\n",
       "<table border=\"1\" class=\"dataframe\">\n",
       "  <thead>\n",
       "    <tr style=\"text-align: right;\">\n",
       "      <th></th>\n",
       "      <th>urn</th>\n",
       "      <th>ESCO_job_history</th>\n",
       "      <th>skills</th>\n",
       "    </tr>\n",
       "  </thead>\n",
       "  <tbody>\n",
       "    <tr>\n",
       "      <th>0</th>\n",
       "      <td>urn:li:member:18013610</td>\n",
       "      <td>[sales manager, sales manager, sales manager, ...</td>\n",
       "      <td>[make strategic business decisions, prepare vi...</td>\n",
       "    </tr>\n",
       "    <tr>\n",
       "      <th>1</th>\n",
       "      <td>urn:li:member:237255922</td>\n",
       "      <td>[software analyst, software analyst, software ...</td>\n",
       "      <td>[C#, SAP R3, ensure compliance with company re...</td>\n",
       "    </tr>\n",
       "    <tr>\n",
       "      <th>2</th>\n",
       "      <td>urn:li:member:315633918</td>\n",
       "      <td>[head of higher education institutions]</td>\n",
       "      <td>[analyse curriculum, liaise with board members...</td>\n",
       "    </tr>\n",
       "    <tr>\n",
       "      <th>3</th>\n",
       "      <td>urn:li:member:156118673</td>\n",
       "      <td>[housing policy officer, housing policy officer]</td>\n",
       "      <td>[manage government policy implementation, real...</td>\n",
       "    </tr>\n",
       "    <tr>\n",
       "      <th>4</th>\n",
       "      <td>urn:li:member:169303665</td>\n",
       "      <td>[clothing development manager]</td>\n",
       "      <td>[distinguish accessories, portfolio management...</td>\n",
       "    </tr>\n",
       "  </tbody>\n",
       "</table>\n",
       "</div>"
      ],
      "text/plain": [
       "                       urn                                   ESCO_job_history  \\\n",
       "0   urn:li:member:18013610  [sales manager, sales manager, sales manager, ...   \n",
       "1  urn:li:member:237255922  [software analyst, software analyst, software ...   \n",
       "2  urn:li:member:315633918            [head of higher education institutions]   \n",
       "3  urn:li:member:156118673   [housing policy officer, housing policy officer]   \n",
       "4  urn:li:member:169303665                     [clothing development manager]   \n",
       "\n",
       "                                              skills  \n",
       "0  [make strategic business decisions, prepare vi...  \n",
       "1  [C#, SAP R3, ensure compliance with company re...  \n",
       "2  [analyse curriculum, liaise with board members...  \n",
       "3  [manage government policy implementation, real...  \n",
       "4  [distinguish accessories, portfolio management...  "
      ]
     },
     "execution_count": 12,
     "metadata": {},
     "output_type": "execute_result"
    }
   ],
   "source": [
    "#first, remove all the people that did not get assigned any skills\n",
    "for i,line in df_with_skills.iterrows():\n",
    "    if not line['skills']:\n",
    "        df_with_skills['skills'][i] = np.nan\n",
    "df_with_skills_cleaned = df_with_skills.dropna().copy()\n",
    "df_with_skills_cleaned.head()"
   ]
  },
  {
   "cell_type": "markdown",
   "id": "4c9ac862",
   "metadata": {},
   "source": [
    "We reformulate this data in a way that makes it easier to ingest it into our neo4j database. and save the produced csv file into the 'data' directory."
   ]
  },
  {
   "cell_type": "code",
   "execution_count": 13,
   "id": "5c51ffde",
   "metadata": {},
   "outputs": [
    {
     "data": {
      "text/html": [
       "<div>\n",
       "<style scoped>\n",
       "    .dataframe tbody tr th:only-of-type {\n",
       "        vertical-align: middle;\n",
       "    }\n",
       "\n",
       "    .dataframe tbody tr th {\n",
       "        vertical-align: top;\n",
       "    }\n",
       "\n",
       "    .dataframe thead th {\n",
       "        text-align: right;\n",
       "    }\n",
       "</style>\n",
       "<table border=\"1\" class=\"dataframe\">\n",
       "  <thead>\n",
       "    <tr style=\"text-align: right;\">\n",
       "      <th></th>\n",
       "      <th>urn</th>\n",
       "      <th>skill</th>\n",
       "    </tr>\n",
       "  </thead>\n",
       "  <tbody>\n",
       "    <tr>\n",
       "      <th>0</th>\n",
       "      <td>urn:li:member:18013610</td>\n",
       "      <td>make strategic business decisions</td>\n",
       "    </tr>\n",
       "    <tr>\n",
       "      <th>1</th>\n",
       "      <td>urn:li:member:18013610</td>\n",
       "      <td>prepare visual data</td>\n",
       "    </tr>\n",
       "    <tr>\n",
       "      <th>2</th>\n",
       "      <td>urn:li:member:18013610</td>\n",
       "      <td>communicate with customers</td>\n",
       "    </tr>\n",
       "    <tr>\n",
       "      <th>3</th>\n",
       "      <td>urn:li:member:18013610</td>\n",
       "      <td>sales strategies</td>\n",
       "    </tr>\n",
       "    <tr>\n",
       "      <th>4</th>\n",
       "      <td>urn:li:member:18013610</td>\n",
       "      <td>analyse work-related written reports</td>\n",
       "    </tr>\n",
       "  </tbody>\n",
       "</table>\n",
       "</div>"
      ],
      "text/plain": [
       "                      urn                                 skill\n",
       "0  urn:li:member:18013610     make strategic business decisions\n",
       "1  urn:li:member:18013610                   prepare visual data\n",
       "2  urn:li:member:18013610            communicate with customers\n",
       "3  urn:li:member:18013610                      sales strategies\n",
       "4  urn:li:member:18013610  analyse work-related written reports"
      ]
     },
     "execution_count": 13,
     "metadata": {},
     "output_type": "execute_result"
    }
   ],
   "source": [
    "expanded_list = []\n",
    "for i, row in df_with_skills_cleaned.iterrows():\n",
    "    urn = row['urn']\n",
    "    for skill in row['skills']:\n",
    "        if skill:\n",
    "            expanded_list.append([urn, skill])\n",
    "expanded_df = pd.DataFrame(expanded_list, columns=['urn','skill'])\n",
    "expanded_df.to_csv('../data/expanded_df_with_skills.csv',index=False)\n",
    "expanded_df.head()"
   ]
  },
  {
   "cell_type": "markdown",
   "id": "4573ce5c",
   "metadata": {},
   "source": [
    "We do the same reformulation for the job history data, for reaons that I can't really remember right now. "
   ]
  },
  {
   "cell_type": "code",
   "execution_count": 14,
   "id": "9193006e",
   "metadata": {},
   "outputs": [
    {
     "data": {
      "text/html": [
       "<div>\n",
       "<style scoped>\n",
       "    .dataframe tbody tr th:only-of-type {\n",
       "        vertical-align: middle;\n",
       "    }\n",
       "\n",
       "    .dataframe tbody tr th {\n",
       "        vertical-align: top;\n",
       "    }\n",
       "\n",
       "    .dataframe thead th {\n",
       "        text-align: right;\n",
       "    }\n",
       "</style>\n",
       "<table border=\"1\" class=\"dataframe\">\n",
       "  <thead>\n",
       "    <tr style=\"text-align: right;\">\n",
       "      <th></th>\n",
       "      <th>urn</th>\n",
       "      <th>job</th>\n",
       "    </tr>\n",
       "  </thead>\n",
       "  <tbody>\n",
       "    <tr>\n",
       "      <th>0</th>\n",
       "      <td>urn:li:member:18013610</td>\n",
       "      <td>sales manager</td>\n",
       "    </tr>\n",
       "    <tr>\n",
       "      <th>1</th>\n",
       "      <td>urn:li:member:18013610</td>\n",
       "      <td>sales manager</td>\n",
       "    </tr>\n",
       "    <tr>\n",
       "      <th>2</th>\n",
       "      <td>urn:li:member:18013610</td>\n",
       "      <td>sales manager</td>\n",
       "    </tr>\n",
       "    <tr>\n",
       "      <th>3</th>\n",
       "      <td>urn:li:member:18013610</td>\n",
       "      <td>sales manager</td>\n",
       "    </tr>\n",
       "    <tr>\n",
       "      <th>4</th>\n",
       "      <td>urn:li:member:18013610</td>\n",
       "      <td>sales manager</td>\n",
       "    </tr>\n",
       "  </tbody>\n",
       "</table>\n",
       "</div>"
      ],
      "text/plain": [
       "                      urn            job\n",
       "0  urn:li:member:18013610  sales manager\n",
       "1  urn:li:member:18013610  sales manager\n",
       "2  urn:li:member:18013610  sales manager\n",
       "3  urn:li:member:18013610  sales manager\n",
       "4  urn:li:member:18013610  sales manager"
      ]
     },
     "execution_count": 14,
     "metadata": {},
     "output_type": "execute_result"
    }
   ],
   "source": [
    "expanded_list = []\n",
    "for i, row in df_with_skills_cleaned.iterrows():\n",
    "    urn = row['urn']\n",
    "    for job in row['ESCO_job_history']:\n",
    "        if job:\n",
    "            expanded_list.append([urn, job])\n",
    "expanded_df = pd.DataFrame(expanded_list, columns=['urn','job'])\n",
    "expanded_df.to_csv('../data/expanded_df_with_jobhist.csv',index=False)\n",
    "expanded_df.head()"
   ]
  },
  {
   "cell_type": "markdown",
   "id": "94ca1b2e",
   "metadata": {},
   "source": [
    "We said we had 6853 people in our dataset, let's see how many are left after we removed the 'unskilled' people."
   ]
  },
  {
   "cell_type": "code",
   "execution_count": 15,
   "id": "e20426b2",
   "metadata": {},
   "outputs": [
    {
     "data": {
      "text/plain": [
       "6200"
      ]
     },
     "execution_count": 15,
     "metadata": {},
     "output_type": "execute_result"
    }
   ],
   "source": [
    "len(df_with_skills_cleaned)"
   ]
  },
  {
   "cell_type": "markdown",
   "id": "1dd54b77",
   "metadata": {},
   "source": [
    "okay, we can work with that.\n",
    "\n",
    "Now we connect with the neo4j database in order to run the node2vec algorithm to make an embedding of the people and the occupations, based on their skills."
   ]
  },
  {
   "cell_type": "code",
   "execution_count": 20,
   "id": "eed9a77d",
   "metadata": {},
   "outputs": [],
   "source": [
    "with open('../credentials.txt','r') as f:\n",
    "    ls = f.read().split(', ')\n",
    "\n",
    "DN_HOST = 'localhost'\n",
    "DB_PORT = 7687\n",
    "DB_USERNAME = ls[0]\n",
    "DB_PW = ls[1]\n",
    "DB_NAME = 'neo4j'\n",
    "\n",
    "graph = Graph(\n",
    "    host=DN_HOST,\n",
    "    port=DB_PORT,\n",
    "    user=DB_USERNAME,\n",
    "    password=DB_PW,\n",
    "    name=DB_NAME\n",
    ")"
   ]
  },
  {
   "cell_type": "code",
   "execution_count": 21,
   "id": "4545a414",
   "metadata": {},
   "outputs": [
    {
     "data": {
      "text/html": [
       "<table><tr><th>nodeCount</th><th>nodePropertiesWritten</th><th>createMillis</th><th>computeMillis</th><th>writeMillis</th><th>configuration</th></tr><tr><td style=\"text-align:right\">9138</td><td style=\"text-align:right\">9138</td><td style=\"text-align:right\">241611</td><td style=\"text-align:right\">33522</td><td style=\"text-align:right\">1800</td><td style=\"text-align:left\">{negativeSamplingExponent: 0.75, initialLearningRate: 0.025, writeConcurrency: 4, negativeSamplingRate: 5, walksPerNode: 10, positiveSamplingFactor: 0.001, relationshipWeightProperty: &#039;weight&#039;, iterations: 1, concurrency: 4, returnFactor: 1.0, walkLength: 80, windowSize: 10, writeProperty: &#039;embedding&#039;, inOutFactor: 1.0, embeddingDimension: 64, nodeLabels: [&#039;*&#039;], sudo: false, minLearningRate: 0.0001, relationshipTypes: [&#039;*&#039;], walkBufferSize: 1000, username: null}</td></tr></table>"
      ],
      "text/plain": [
       " nodeCount | nodePropertiesWritten | createMillis | computeMillis | writeMillis | configuration                                                                                                                                                                                                                                                                                                                                                                                                                                                                      \n",
       "-----------|-----------------------|--------------|---------------|-------------|------------------------------------------------------------------------------------------------------------------------------------------------------------------------------------------------------------------------------------------------------------------------------------------------------------------------------------------------------------------------------------------------------------------------------------------------------------------------------------\n",
       "      9138 |                  9138 |       241611 |         33522 |        1800 | {negativeSamplingExponent: 0.75, initialLearningRate: 0.025, writeConcurrency: 4, negativeSamplingRate: 5, walksPerNode: 10, positiveSamplingFactor: 0.001, relationshipWeightProperty: 'weight', iterations: 1, concurrency: 4, returnFactor: 1.0, walkLength: 80, windowSize: 10, writeProperty: 'embedding', inOutFactor: 1.0, embeddingDimension: 64, nodeLabels: ['*'], sudo: false, minLearningRate: 0.0001, relationshipTypes: ['*'], walkBufferSize: 1000, username: null} "
      ]
     },
     "execution_count": 21,
     "metadata": {},
     "output_type": "execute_result"
    }
   ],
   "source": [
    "graph.run(\"\"\"\n",
    "    CALL gds.beta.node2vec.write({\n",
    "    nodeQuery:'MATCH (n) WHERE n:Person or n:Occupation RETURN id(n) AS id',\n",
    "    relationshipQuery:'MATCH (n)-[a]->(:skill)<-[b]-(m)\n",
    "        RETURN id(n) AS source, id(m) AS target, sum(a.weight*b.weight) AS weight',\n",
    "    validateRelationships:false,\n",
    "    writeProperty:'embedding',\n",
    "    relationshipWeightProperty:'weight',\n",
    "    embeddingDimension:64})\n",
    "\"\"\")"
   ]
  },
  {
   "cell_type": "markdown",
   "id": "1c73a91f",
   "metadata": {},
   "source": [
    "We made an 64-dimensional embedding of the people and occupations. Let's run it to a T-SNE to look at the embedding in 2D."
   ]
  },
  {
   "cell_type": "code",
   "execution_count": 22,
   "id": "c7812dc8",
   "metadata": {},
   "outputs": [
    {
     "name": "stderr",
     "output_type": "stream",
     "text": [
      "/Library/Frameworks/Python.framework/Versions/3.9/lib/python3.9/site-packages/sklearn/manifold/_t_sne.py:780: FutureWarning: The default initialization in TSNE will change from 'random' to 'pca' in 1.2.\n",
      "  warnings.warn(\n",
      "/Library/Frameworks/Python.framework/Versions/3.9/lib/python3.9/site-packages/sklearn/manifold/_t_sne.py:790: FutureWarning: The default learning rate in TSNE will change from 200.0 to 'auto' in 1.2.\n",
      "  warnings.warn(\n"
     ]
    },
    {
     "data": {
      "text/plain": [
       "<AxesSubplot:>"
      ]
     },
     "execution_count": 22,
     "metadata": {},
     "output_type": "execute_result"
    },
    {
     "data": {
      "image/png": "[encoded data removed]",
      "text/plain": [
       "<Figure size 432x288 with 1 Axes>"
      ]
     },
     "metadata": {
      "needs_background": "light"
     },
     "output_type": "display_data"
    }
   ],
   "source": [
    "embed_df = graph.run(\"\"\"\n",
    "    MATCH (n) WHERE n:Person or n:Occupation RETURN n.embedding AS node_embedding, labels(n) AS label, n as nodes\n",
    "\"\"\").to_data_frame()\n",
    "node_embed_2d = TSNE().fit_transform(np.array([x for x in embed_df['node_embedding']]))\n",
    "sns.scatterplot(x=[x[0] for x in node_embed_2d],y=[x[1] for x in node_embed_2d],hue = [x[0] for x in embed_df['label']])"
   ]
  },
  {
   "cell_type": "markdown",
   "id": "0c8e441b",
   "metadata": {},
   "source": [
    "We grab the person and occupation nodes together with their embedding from the database. from this we create 2 seperate dataframes 'person_df', containing all the person nodes with their embedding en 'occupation_df', containing all the occupation nodes with their embedding."
   ]
  },
  {
   "cell_type": "code",
   "execution_count": 23,
   "id": "6b811f37",
   "metadata": {},
   "outputs": [
    {
     "data": {
      "text/html": [
       "<div>\n",
       "<style scoped>\n",
       "    .dataframe tbody tr th:only-of-type {\n",
       "        vertical-align: middle;\n",
       "    }\n",
       "\n",
       "    .dataframe tbody tr th {\n",
       "        vertical-align: top;\n",
       "    }\n",
       "\n",
       "    .dataframe thead th {\n",
       "        text-align: right;\n",
       "    }\n",
       "</style>\n",
       "<table border=\"1\" class=\"dataframe\">\n",
       "  <thead>\n",
       "    <tr style=\"text-align: right;\">\n",
       "      <th></th>\n",
       "      <th>np_node_embedding</th>\n",
       "      <th>label</th>\n",
       "      <th>urn</th>\n",
       "    </tr>\n",
       "  </thead>\n",
       "  <tbody>\n",
       "    <tr>\n",
       "      <th>0</th>\n",
       "      <td>[-0.20452773571014404, -0.2671469449996948, 0....</td>\n",
       "      <td>Person</td>\n",
       "      <td>urn:li:member:63253473</td>\n",
       "    </tr>\n",
       "    <tr>\n",
       "      <th>1</th>\n",
       "      <td>[-0.4974675476551056, -0.2560517489910126, -0....</td>\n",
       "      <td>Person</td>\n",
       "      <td>urn:li:member:47270882</td>\n",
       "    </tr>\n",
       "    <tr>\n",
       "      <th>2</th>\n",
       "      <td>[-0.8669236898422241, -0.08480484783649445, 0....</td>\n",
       "      <td>Person</td>\n",
       "      <td>urn:li:member:122496914</td>\n",
       "    </tr>\n",
       "    <tr>\n",
       "      <th>3</th>\n",
       "      <td>[-0.30899280309677124, -0.2034350484609604, -0...</td>\n",
       "      <td>Person</td>\n",
       "      <td>urn:li:member:162583050</td>\n",
       "    </tr>\n",
       "    <tr>\n",
       "      <th>4</th>\n",
       "      <td>[-0.6369335651397705, -0.10060270875692368, 0....</td>\n",
       "      <td>Person</td>\n",
       "      <td>urn:li:member:258253757</td>\n",
       "    </tr>\n",
       "  </tbody>\n",
       "</table>\n",
       "</div>"
      ],
      "text/plain": [
       "                                   np_node_embedding   label  \\\n",
       "0  [-0.20452773571014404, -0.2671469449996948, 0....  Person   \n",
       "1  [-0.4974675476551056, -0.2560517489910126, -0....  Person   \n",
       "2  [-0.8669236898422241, -0.08480484783649445, 0....  Person   \n",
       "3  [-0.30899280309677124, -0.2034350484609604, -0...  Person   \n",
       "4  [-0.6369335651397705, -0.10060270875692368, 0....  Person   \n",
       "\n",
       "                       urn  \n",
       "0   urn:li:member:63253473  \n",
       "1   urn:li:member:47270882  \n",
       "2  urn:li:member:122496914  \n",
       "3  urn:li:member:162583050  \n",
       "4  urn:li:member:258253757  "
      ]
     },
     "execution_count": 23,
     "metadata": {},
     "output_type": "execute_result"
    }
   ],
   "source": [
    "embed_df = graph.run(\"\"\"\n",
    "    MATCH (n) WHERE n:Person or n:Occupation RETURN n.embedding AS node_embedding, labels(n)[0] AS label, n.urn as urn, n.title as title\n",
    "\"\"\").to_data_frame()\n",
    "np_embed = []\n",
    "for embed in embed_df['node_embedding']:\n",
    "    np_embed.append(np.array(embed))\n",
    "embed_df['np_node_embedding'] = np_embed\n",
    "occupation_df = embed_df.dropna(subset=['title','np_node_embedding']).reset_index()[['np_node_embedding','label','title']]\n",
    "person_df = embed_df.dropna(subset=['urn','np_node_embedding']).reset_index()[['np_node_embedding','label','urn']]\n",
    "person_df.head()"
   ]
  },
  {
   "cell_type": "markdown",
   "id": "8cc43810",
   "metadata": {},
   "source": [
    "we create some functions to helps us get some relevant output from our embedding.\n",
    "- get_top_k_occupations() takes an 64-dimensional (embedding space dimension) vector and an integer k. It returns a dataframe containing the k closest embedded occupations to the input embedding according to euclidean (L2) distance.\n",
    "- get_top_k_people() takes an 64-dimensional (embedding space dimension) vector and an integer k. It returns a dataframe containing the k closest embedded people to the input embedding according to euclidean (L2) distance.\n",
    "- get_person_history() takes a person's urn and return that person's job history\n",
    "- get_person_skills() takes a person's urn and returns that person's assigned skills"
   ]
  },
  {
   "cell_type": "code",
   "execution_count": 24,
   "id": "e684efba",
   "metadata": {},
   "outputs": [],
   "source": [
    "def get_top_k_occupations(embedding,k):\n",
    "    distances = []\n",
    "    for i,embed in enumerate(occupation_df['np_node_embedding']):\n",
    "        distance = np.linalg.norm(embedding-embed)\n",
    "        distances.append(distance)\n",
    "    distances = np.array(distances)\n",
    "    idx = np.argsort(distances)\n",
    "    top_k_distances = distances[idx[:k]]\n",
    "    top_k_occupations = occupation_df['title'][idx[:k]]\n",
    "    transposed = []\n",
    "    for a,b in zip(top_k_occupations,top_k_distances):\n",
    "        transposed.append([a,b])\n",
    "    return pd.DataFrame(transposed,columns = ['occupation','distance'])\n",
    "\n",
    "def get_top_k_people(embedding,k):\n",
    "    distances = []\n",
    "    for i,embed in enumerate(person_df['np_node_embedding']):\n",
    "        distance = np.linalg.norm(embedding-embed)\n",
    "        distances.append(distance)\n",
    "    distances = np.array(distances)\n",
    "    idx = np.argsort(distances)\n",
    "    top_k_distances = distances[idx[:k]]\n",
    "    top_k_people = person_df['urn'][idx[:k]]\n",
    "    transposed = []\n",
    "    for a,b in zip(top_k_people,top_k_distances):\n",
    "        transposed.append([a,b])\n",
    "    return pd.DataFrame(transposed,columns = ['urn','distance'])\n",
    "\n",
    "def get_person_history(urn):\n",
    "    return df_with_skills_cleaned[df_with_skills_cleaned['urn']==urn]['ESCO_job_history'].item()\n",
    "\n",
    "def get_person_skills(urn):\n",
    "    return df_with_skills_cleaned[df_with_skills_cleaned['urn']==urn]['skills'].item()"
   ]
  },
  {
   "cell_type": "markdown",
   "id": "c4f6cdf0",
   "metadata": {},
   "source": [
    "The proof is in the pudding. In the following block we extract a random person from our dataset and showcase their job history and assigned skills, then we predict the best 10 occupations for this person based on our embedding."
   ]
  },
  {
   "cell_type": "code",
   "execution_count": 25,
   "id": "5e5371ef",
   "metadata": {},
   "outputs": [
    {
     "name": "stdout",
     "output_type": "stream",
     "text": [
      "We find the best suited jobs for person with urn urn:li:member:103775706.\n",
      "Their job history consist of:\n",
      "\tfootwear designer\n",
      "\tfootwear designer\n",
      "\tfootwear designer\n",
      "\tfootwear designer\n",
      "\tfootwear designer\n",
      "\tfootwear designer\n",
      "\tfootwear designer\n",
      "\tfootwear designer\n",
      "\n",
      "Their skills are:\n",
      "\tfootwear components\n",
      "\tcreate mood boards\n",
      "\tergonomics in footwear and leather goods design\n",
      "\tcreate solutions to problems\n",
      "\timplement footwear marketing plan\n",
      "\tuse IT tools\n",
      "\tfootwear creation process\n",
      "\tcreate 3D CAD footwear prototypes\n",
      "\tuse CAD for soles\n",
      "\tapply fashion trends to footwear and leather goods\n",
      "\tpractice innovative thinking in the footwear and leather goods industries\n",
      "\tfootwear quality\n",
      "\toperate 2D CAD for footwear pattern engineering\n",
      "\tfootwear manufacturing technology\n",
      "\tcreate patterns for footwear\n",
      "\tperform market research in footwear\n",
      "\tfootwear and leather goods marketing planning\n",
      "\tCAD for footwear\n",
      "\treduce environmental impact of footwear manufacturing\n",
      "\tuse CAD for heels\n",
      "\tcreate technical sketches for footwear\n",
      "\tfootwear materials\n",
      "\twork in textile manufacturing teams\n",
      "\tdevelop footwear collection\n",
      "\tprepare footwear samples\n",
      "\tuse communication techniques\n",
      "\tmake technical drawings of fashion pieces\n",
      "\tpattern grading\n",
      "\tdevelop footwear and leather goods marketing plans\n",
      "\tcommunicate commercial and technical issues in foreign languages\n",
      "\n",
      "Top 10 recommended jobs are:\n"
     ]
    },
    {
     "data": {
      "text/html": [
       "<div>\n",
       "<style scoped>\n",
       "    .dataframe tbody tr th:only-of-type {\n",
       "        vertical-align: middle;\n",
       "    }\n",
       "\n",
       "    .dataframe tbody tr th {\n",
       "        vertical-align: top;\n",
       "    }\n",
       "\n",
       "    .dataframe thead th {\n",
       "        text-align: right;\n",
       "    }\n",
       "</style>\n",
       "<table border=\"1\" class=\"dataframe\">\n",
       "  <thead>\n",
       "    <tr style=\"text-align: right;\">\n",
       "      <th></th>\n",
       "      <th>occupation</th>\n",
       "      <th>distance</th>\n",
       "    </tr>\n",
       "  </thead>\n",
       "  <tbody>\n",
       "    <tr>\n",
       "      <th>0</th>\n",
       "      <td>footwear production technician</td>\n",
       "      <td>2.056585</td>\n",
       "    </tr>\n",
       "    <tr>\n",
       "      <th>1</th>\n",
       "      <td>leather goods designer</td>\n",
       "      <td>2.107364</td>\n",
       "    </tr>\n",
       "    <tr>\n",
       "      <th>2</th>\n",
       "      <td>footwear production manager</td>\n",
       "      <td>2.120530</td>\n",
       "    </tr>\n",
       "    <tr>\n",
       "      <th>3</th>\n",
       "      <td>footwear product developer</td>\n",
       "      <td>2.154191</td>\n",
       "    </tr>\n",
       "    <tr>\n",
       "      <th>4</th>\n",
       "      <td>footwear assembly supervisor</td>\n",
       "      <td>2.168714</td>\n",
       "    </tr>\n",
       "    <tr>\n",
       "      <th>5</th>\n",
       "      <td>footwear designer</td>\n",
       "      <td>2.181677</td>\n",
       "    </tr>\n",
       "    <tr>\n",
       "      <th>6</th>\n",
       "      <td>footwear patternmaker</td>\n",
       "      <td>2.188389</td>\n",
       "    </tr>\n",
       "    <tr>\n",
       "      <th>7</th>\n",
       "      <td>footwear production supervisor</td>\n",
       "      <td>2.206043</td>\n",
       "    </tr>\n",
       "    <tr>\n",
       "      <th>8</th>\n",
       "      <td>footwear quality technician</td>\n",
       "      <td>2.222086</td>\n",
       "    </tr>\n",
       "    <tr>\n",
       "      <th>9</th>\n",
       "      <td>footwear product development manager</td>\n",
       "      <td>2.242132</td>\n",
       "    </tr>\n",
       "  </tbody>\n",
       "</table>\n",
       "</div>"
      ],
      "text/plain": [
       "                             occupation  distance\n",
       "0        footwear production technician  2.056585\n",
       "1                leather goods designer  2.107364\n",
       "2           footwear production manager  2.120530\n",
       "3            footwear product developer  2.154191\n",
       "4          footwear assembly supervisor  2.168714\n",
       "5                     footwear designer  2.181677\n",
       "6                 footwear patternmaker  2.188389\n",
       "7        footwear production supervisor  2.206043\n",
       "8           footwear quality technician  2.222086\n",
       "9  footwear product development manager  2.242132"
      ]
     },
     "execution_count": 25,
     "metadata": {},
     "output_type": "execute_result"
    }
   ],
   "source": [
    "#given a person, find its most applicable occupations\n",
    "urn_list = df_with_skills_cleaned['urn'].tolist()\n",
    "rand_urn = random.sample(urn_list,1)[0]\n",
    "k=10\n",
    "print(f'We find the best suited jobs for person with urn {rand_urn}.')\n",
    "print('Their job history consist of:')\n",
    "for job in get_person_history(rand_urn):\n",
    "    print(f'\\t{job}')\n",
    "print('')\n",
    "print('Their skills are:')\n",
    "for skill in get_person_skills(rand_urn):\n",
    "    print(f'\\t{skill}')\n",
    "print('')\n",
    "print(f'Top {k} recommended jobs are:')\n",
    "occ_df = get_top_k_occupations(person_df[person_df['urn']==rand_urn]['np_node_embedding'].item(),k)\n",
    "occ_df"
   ]
  },
  {
   "cell_type": "markdown",
   "id": "985d475d",
   "metadata": {},
   "source": [
    "pretty impressive!\n",
    "\n",
    "We can also extract a random ESCO occupation from our data, and predict the top 5 people in our dataset that would be suitable for this occupation. This is done in the next code block. "
   ]
  },
  {
   "cell_type": "code",
   "execution_count": 26,
   "id": "843a912a",
   "metadata": {},
   "outputs": [
    {
     "name": "stdout",
     "output_type": "stream",
     "text": [
      "We find the best suited people for job radiographer.\n",
      "Top 5 recommended people are:\n"
     ]
    },
    {
     "data": {
      "text/html": [
       "<div>\n",
       "<style scoped>\n",
       "    .dataframe tbody tr th:only-of-type {\n",
       "        vertical-align: middle;\n",
       "    }\n",
       "\n",
       "    .dataframe tbody tr th {\n",
       "        vertical-align: top;\n",
       "    }\n",
       "\n",
       "    .dataframe thead th {\n",
       "        text-align: right;\n",
       "    }\n",
       "</style>\n",
       "<table border=\"1\" class=\"dataframe\">\n",
       "  <thead>\n",
       "    <tr style=\"text-align: right;\">\n",
       "      <th></th>\n",
       "      <th>urn</th>\n",
       "      <th>distance</th>\n",
       "    </tr>\n",
       "  </thead>\n",
       "  <tbody>\n",
       "    <tr>\n",
       "      <th>0</th>\n",
       "      <td>urn:li:member:307737691</td>\n",
       "      <td>1.350867</td>\n",
       "    </tr>\n",
       "    <tr>\n",
       "      <th>1</th>\n",
       "      <td>urn:li:member:324734290</td>\n",
       "      <td>1.379458</td>\n",
       "    </tr>\n",
       "    <tr>\n",
       "      <th>2</th>\n",
       "      <td>urn:li:member:219733819</td>\n",
       "      <td>1.395904</td>\n",
       "    </tr>\n",
       "    <tr>\n",
       "      <th>3</th>\n",
       "      <td>urn:li:member:21864885</td>\n",
       "      <td>1.430409</td>\n",
       "    </tr>\n",
       "    <tr>\n",
       "      <th>4</th>\n",
       "      <td>urn:li:member:447202684</td>\n",
       "      <td>1.432495</td>\n",
       "    </tr>\n",
       "  </tbody>\n",
       "</table>\n",
       "</div>"
      ],
      "text/plain": [
       "                       urn  distance\n",
       "0  urn:li:member:307737691  1.350867\n",
       "1  urn:li:member:324734290  1.379458\n",
       "2  urn:li:member:219733819  1.395904\n",
       "3   urn:li:member:21864885  1.430409\n",
       "4  urn:li:member:447202684  1.432495"
      ]
     },
     "execution_count": 26,
     "metadata": {},
     "output_type": "execute_result"
    }
   ],
   "source": [
    "#given a job find the most applicable people\n",
    "job_list = job_skills_df['job_title'].tolist()\n",
    "k=5\n",
    "rand_job = random.sample(job_list,1)[0]\n",
    "per_df = get_top_k_people(occupation_df[occupation_df['title']==rand_job]['np_node_embedding'].item(),k)\n",
    "print(f'We find the best suited people for job: {rand_job}.')\n",
    "print(f'Top {k} recommended people are:')\n",
    "per_df"
   ]
  },
  {
   "cell_type": "markdown",
   "id": "78417a8f",
   "metadata": {},
   "source": [
    "We look at these people's job history to see if the recommended people for the job make any sense."
   ]
  },
  {
   "cell_type": "code",
   "execution_count": 27,
   "id": "e024b753",
   "metadata": {},
   "outputs": [
    {
     "name": "stdout",
     "output_type": "stream",
     "text": [
      "for these people, we check out their job history and skills.\n",
      "person urn:li:member:307737691:\n",
      "job history:\n",
      "\tpharmacist\n",
      "\tpharmacist\n",
      "\n",
      "person urn:li:member:324734290:\n",
      "job history:\n",
      "\tphysiotherapist\n",
      "\tphysiotherapist\n",
      "\tphysiotherapist\n",
      "\tphysiotherapist\n",
      "\n",
      "person urn:li:member:219733819:\n",
      "job history:\n",
      "\tpharmacist\n",
      "\tpharmacist\n",
      "\tpharmacist\n",
      "\tpharmacist\n",
      "\n",
      "person urn:li:member:21864885:\n",
      "job history:\n",
      "\tparamedic in emergency responses\n",
      "\tparamedic in emergency responses\n",
      "\tparamedic in emergency responses\n",
      "\tparamedic in emergency responses\n",
      "\n",
      "person urn:li:member:447202684:\n",
      "job history:\n",
      "\tpharmacist\n",
      "\tpharmacist\n",
      "\n"
     ]
    }
   ],
   "source": [
    "#who are these people?\n",
    "print('for these people, we check out their job history and skills.')\n",
    "for i,person in enumerate(per_df['urn']):\n",
    "    print(f'person {person}:')\n",
    "    print('job history:')\n",
    "    for job in get_person_history(person):\n",
    "        print(f'\\t{job}')\n",
    "    print('')\n",
    "#    print('skills:')\n",
    "#    for skill in get_person_skills(person):\n",
    "#        print(f'\\t{skill}')\n",
    "#    print('')\n",
    "#    print('')"
   ]
  },
  {
   "cell_type": "markdown",
   "id": "7cde2282",
   "metadata": {},
   "source": [
    "Seems okay. I feel like these recommendations are not as good as the previous, where we recommended jobs to people instead of people to jobs. I think this is because every person in the dataset has a job, but not every job in the dataset has a person that has done this job before. So some jobs in the dataset may be a bit 'stranded' and then the recommendation tries to find some people that have at least some skills in common with the specified job requirements, but maybe nobody in the dataset is exceptionally qualified."
   ]
  },
  {
   "cell_type": "markdown",
   "id": "50f9909a",
   "metadata": {},
   "source": [
    "I'm very pleased with the results of this node2vec-embedding based recommendation approach. A potential problem that may arrise is that the embedding is static, we can not simply add new people in our dataset to the embedding. The embedding would have to be completely recalculated from scratch.\n",
    "\n",
    "I see a potential solution to this as a supervised regression problem. We grab some people from our current embedding.\n",
    "Then we use the skills that these people have as input features, and the embedding as the target feature. If we now have a new person with certain skills in our dataset, we can use the trained regressor to predict their place in the embedding, without having to recalculate the embedding.\n",
    "\n",
    "I expect that adding a lot of these pseudo-embeddings will worsen the performance of the recommendations over time. But that's not really a problem, every so often we can just recalculate the embedding and train a new regressor.\n",
    "\n",
    "In the following is a small experiment of this. I've used a randomforestregressor for this task, but there's no immediate reason why I chose this ML algorithm over another, I just like forests, I guess. Within this random forest regressor, I've chosen 2 ways of representing the input features (the skills of the people):\n",
    "1. The most obvious one is simply a one-hot encoding of the input skills for each person. This will create a quite high dimensional input (I believe it's 12600 dimensions).\n",
    "2. A second one uses the embeddings of the skills, that was made in the skill_recommender notebook. Instead of one-hot encoding the skills, we use the average over all the skills of a person of the skill embedding. This is a 128-dimensional input, A lot easier to work with in my estimation.\n",
    "\n",
    "We check both methods out and see how they perform. As of yet, no gridsearch with cross-validation is implemented. We just run the sklearn randomforestregressor with default parameters.\n",
    "\n",
    "Below is a function to create the one-hot encoding of the skills."
   ]
  },
  {
   "cell_type": "code",
   "execution_count": 28,
   "id": "66f84b74",
   "metadata": {},
   "outputs": [],
   "source": [
    "#supervised learning to predict embedding based on skills.\n",
    "skill_list = list(graph.run(\"\"\"\n",
    "    MATCH (a:skill)\n",
    "    RETURN a.name as skill\n",
    "\"\"\").to_data_frame()['skill'])\n",
    "def get_skill_id(skill):\n",
    "    for i,sk in enumerate(skill_list):\n",
    "        if sk==skill:\n",
    "            return i\n",
    "    print(skill)\n",
    "    return 'error'\n",
    "        \n",
    "def one_hot(skills):\n",
    "    out = np.zeros(len(skill_list))\n",
    "    for skill in skills:\n",
    "        out[get_skill_id(skill)]=1\n",
    "    return out"
   ]
  },
  {
   "cell_type": "markdown",
   "id": "cb397bcb",
   "metadata": {},
   "source": [
    "We create the input-target dataframe with the one-hot encoding of the skills features."
   ]
  },
  {
   "cell_type": "code",
   "execution_count": 29,
   "id": "2972bf10",
   "metadata": {},
   "outputs": [
    {
     "name": "stdout",
     "output_type": "stream",
     "text": [
      "urn:li:member:45220756\n"
     ]
    },
    {
     "data": {
      "text/html": [
       "<div>\n",
       "<style scoped>\n",
       "    .dataframe tbody tr th:only-of-type {\n",
       "        vertical-align: middle;\n",
       "    }\n",
       "\n",
       "    .dataframe tbody tr th {\n",
       "        vertical-align: top;\n",
       "    }\n",
       "\n",
       "    .dataframe thead th {\n",
       "        text-align: right;\n",
       "    }\n",
       "</style>\n",
       "<table border=\"1\" class=\"dataframe\">\n",
       "  <thead>\n",
       "    <tr style=\"text-align: right;\">\n",
       "      <th></th>\n",
       "      <th>input</th>\n",
       "      <th>target</th>\n",
       "    </tr>\n",
       "  </thead>\n",
       "  <tbody>\n",
       "    <tr>\n",
       "      <th>0</th>\n",
       "      <td>[0.0, 0.0, 0.0, 0.0, 0.0, 0.0, 0.0, 0.0, 0.0, ...</td>\n",
       "      <td>[-0.20452773571014404, -0.2671469449996948, 0....</td>\n",
       "    </tr>\n",
       "    <tr>\n",
       "      <th>1</th>\n",
       "      <td>[0.0, 0.0, 0.0, 0.0, 0.0, 0.0, 0.0, 0.0, 0.0, ...</td>\n",
       "      <td>[-0.4974675476551056, -0.2560517489910126, -0....</td>\n",
       "    </tr>\n",
       "    <tr>\n",
       "      <th>2</th>\n",
       "      <td>[0.0, 0.0, 0.0, 0.0, 0.0, 0.0, 0.0, 0.0, 0.0, ...</td>\n",
       "      <td>[-0.8669236898422241, -0.08480484783649445, 0....</td>\n",
       "    </tr>\n",
       "    <tr>\n",
       "      <th>3</th>\n",
       "      <td>[0.0, 0.0, 0.0, 0.0, 0.0, 0.0, 0.0, 0.0, 0.0, ...</td>\n",
       "      <td>[-0.30899280309677124, -0.2034350484609604, -0...</td>\n",
       "    </tr>\n",
       "    <tr>\n",
       "      <th>4</th>\n",
       "      <td>[0.0, 0.0, 0.0, 0.0, 0.0, 0.0, 0.0, 0.0, 0.0, ...</td>\n",
       "      <td>[-0.6369335651397705, -0.10060270875692368, 0....</td>\n",
       "    </tr>\n",
       "  </tbody>\n",
       "</table>\n",
       "</div>"
      ],
      "text/plain": [
       "                                               input  \\\n",
       "0  [0.0, 0.0, 0.0, 0.0, 0.0, 0.0, 0.0, 0.0, 0.0, ...   \n",
       "1  [0.0, 0.0, 0.0, 0.0, 0.0, 0.0, 0.0, 0.0, 0.0, ...   \n",
       "2  [0.0, 0.0, 0.0, 0.0, 0.0, 0.0, 0.0, 0.0, 0.0, ...   \n",
       "3  [0.0, 0.0, 0.0, 0.0, 0.0, 0.0, 0.0, 0.0, 0.0, ...   \n",
       "4  [0.0, 0.0, 0.0, 0.0, 0.0, 0.0, 0.0, 0.0, 0.0, ...   \n",
       "\n",
       "                                              target  \n",
       "0  [-0.20452773571014404, -0.2671469449996948, 0....  \n",
       "1  [-0.4974675476551056, -0.2560517489910126, -0....  \n",
       "2  [-0.8669236898422241, -0.08480484783649445, 0....  \n",
       "3  [-0.30899280309677124, -0.2034350484609604, -0...  \n",
       "4  [-0.6369335651397705, -0.10060270875692368, 0....  "
      ]
     },
     "execution_count": 29,
     "metadata": {},
     "output_type": "execute_result"
    }
   ],
   "source": [
    "in_out = []\n",
    "for i,row in person_df.iterrows():\n",
    "    try:\n",
    "        in_ = one_hot(get_person_skills(row['urn']))\n",
    "        out = row['np_node_embedding']\n",
    "    except:\n",
    "        print(row['urn']) #there is still some bug somewhere that yields people in the person_df that are not in the df_with_skills_cleaned dataframe. I presume this is because some people with a job with skills, still have a chance to be assigned zero skills, by pure chance, because the assign_skills() function is stochastic. Anyway , this is not the biggest problem.\n",
    "    in_out.append([in_,out])\n",
    "test_train_df = pd.DataFrame(in_out,columns=['input','target'])\n",
    "test_train_df.head()"
   ]
  },
  {
   "cell_type": "markdown",
   "id": "31ae0864",
   "metadata": {},
   "source": [
    "Below is a small script to check if any of the inputs look wierd."
   ]
  },
  {
   "cell_type": "code",
   "execution_count": 33,
   "id": "a85d8c8a",
   "metadata": {},
   "outputs": [
    {
     "name": "stdout",
     "output_type": "stream",
     "text": [
      "minimal skills of person: 1\n",
      "maximal skills of person: 244\n"
     ]
    }
   ],
   "source": [
    "total_skills = []\n",
    "for i, row in test_train_df.iterrows():\n",
    "    total_skills.append(int(sum(row['input'])))\n",
    "print(f'minimal skills of person: {min(total_skills)}')\n",
    "print(f'maximal skills of person: {max(total_skills)}')"
   ]
  },
  {
   "cell_type": "markdown",
   "id": "cd78cb3c",
   "metadata": {},
   "source": [
    "we divide this data in a training and a test set."
   ]
  },
  {
   "cell_type": "code",
   "execution_count": 34,
   "id": "b6a52b08",
   "metadata": {},
   "outputs": [
    {
     "data": {
      "text/html": [
       "<div>\n",
       "<style scoped>\n",
       "    .dataframe tbody tr th:only-of-type {\n",
       "        vertical-align: middle;\n",
       "    }\n",
       "\n",
       "    .dataframe tbody tr th {\n",
       "        vertical-align: top;\n",
       "    }\n",
       "\n",
       "    .dataframe thead th {\n",
       "        text-align: right;\n",
       "    }\n",
       "</style>\n",
       "<table border=\"1\" class=\"dataframe\">\n",
       "  <thead>\n",
       "    <tr style=\"text-align: right;\">\n",
       "      <th></th>\n",
       "      <th>input</th>\n",
       "      <th>target</th>\n",
       "    </tr>\n",
       "  </thead>\n",
       "  <tbody>\n",
       "    <tr>\n",
       "      <th>362</th>\n",
       "      <td>[0.0, 0.0, 0.0, 0.0, 0.0, 0.0, 0.0, 0.0, 0.0, ...</td>\n",
       "      <td>[-0.24210946261882782, 0.1123393177986145, -0....</td>\n",
       "    </tr>\n",
       "    <tr>\n",
       "      <th>3315</th>\n",
       "      <td>[0.0, 0.0, 0.0, 0.0, 0.0, 0.0, 0.0, 0.0, 0.0, ...</td>\n",
       "      <td>[-0.34020915627479553, 0.1228153258562088, -0....</td>\n",
       "    </tr>\n",
       "    <tr>\n",
       "      <th>885</th>\n",
       "      <td>[0.0, 0.0, 0.0, 0.0, 0.0, 0.0, 0.0, 0.0, 0.0, ...</td>\n",
       "      <td>[0.2269408404827118, 0.3966686427593231, -0.05...</td>\n",
       "    </tr>\n",
       "    <tr>\n",
       "      <th>5955</th>\n",
       "      <td>[0.0, 0.0, 0.0, 0.0, 0.0, 0.0, 0.0, 0.0, 0.0, ...</td>\n",
       "      <td>[-0.44334447383880615, -0.28904789686203003, 0...</td>\n",
       "    </tr>\n",
       "    <tr>\n",
       "      <th>2826</th>\n",
       "      <td>[0.0, 0.0, 0.0, 0.0, 0.0, 0.0, 0.0, 0.0, 0.0, ...</td>\n",
       "      <td>[-0.29816821217536926, -0.02751898765563965, -...</td>\n",
       "    </tr>\n",
       "  </tbody>\n",
       "</table>\n",
       "</div>"
      ],
      "text/plain": [
       "                                                  input  \\\n",
       "362   [0.0, 0.0, 0.0, 0.0, 0.0, 0.0, 0.0, 0.0, 0.0, ...   \n",
       "3315  [0.0, 0.0, 0.0, 0.0, 0.0, 0.0, 0.0, 0.0, 0.0, ...   \n",
       "885   [0.0, 0.0, 0.0, 0.0, 0.0, 0.0, 0.0, 0.0, 0.0, ...   \n",
       "5955  [0.0, 0.0, 0.0, 0.0, 0.0, 0.0, 0.0, 0.0, 0.0, ...   \n",
       "2826  [0.0, 0.0, 0.0, 0.0, 0.0, 0.0, 0.0, 0.0, 0.0, ...   \n",
       "\n",
       "                                                 target  \n",
       "362   [-0.24210946261882782, 0.1123393177986145, -0....  \n",
       "3315  [-0.34020915627479553, 0.1228153258562088, -0....  \n",
       "885   [0.2269408404827118, 0.3966686427593231, -0.05...  \n",
       "5955  [-0.44334447383880615, -0.28904789686203003, 0...  \n",
       "2826  [-0.29816821217536926, -0.02751898765563965, -...  "
      ]
     },
     "execution_count": 34,
     "metadata": {},
     "output_type": "execute_result"
    }
   ],
   "source": [
    "from sklearn.model_selection import train_test_split\n",
    "df_train, df_test = train_test_split(test_train_df)\n",
    "df_train.head()"
   ]
  },
  {
   "cell_type": "markdown",
   "id": "69ab3a14",
   "metadata": {},
   "source": [
    "we train our randomforestregressor."
   ]
  },
  {
   "cell_type": "code",
   "execution_count": 35,
   "id": "3f25e71e",
   "metadata": {},
   "outputs": [
    {
     "data": {
      "text/plain": [
       "RandomForestRegressor()"
      ]
     },
     "execution_count": 35,
     "metadata": {},
     "output_type": "execute_result"
    }
   ],
   "source": [
    "from sklearn.ensemble import RandomForestRegressor\n",
    "\n",
    "forest_reg = RandomForestRegressor()\n",
    "forest_reg.fit(df_train['input'].tolist(),df_train['target'].tolist())"
   ]
  },
  {
   "cell_type": "markdown",
   "id": "409f35aa",
   "metadata": {},
   "source": [
    "We check out the mean squared error of the prediction on the test and training set."
   ]
  },
  {
   "cell_type": "code",
   "execution_count": 40,
   "id": "4ef398f5",
   "metadata": {},
   "outputs": [
    {
     "name": "stdout",
     "output_type": "stream",
     "text": [
      "mean squared error on test set: 0.039792366255418155\n",
      "mean squared error on training set: 0.010270810189623614\n"
     ]
    }
   ],
   "source": [
    "from sklearn.metrics import mean_squared_error\n",
    "pred = forest_reg.predict(df_test['input'].tolist())\n",
    "target = df_test['target'].tolist()\n",
    "mse = mean_squared_error(pred,target)\n",
    "pred_train = forest_reg.predict(df_train['input'].tolist())\n",
    "target_train = df_train['target'].tolist()\n",
    "mse_train = mean_squared_error(pred_train,target_train)\n",
    "print(f'mean squared error on test set: {mse}')\n",
    "print(f'mean squared error on training set: {mse_train}')"
   ]
  },
  {
   "cell_type": "markdown",
   "id": "e325cdb5",
   "metadata": {},
   "source": [
    "seems quite good!\n",
    "\n",
    "Now let's train a randomforestregressor where we use the average skill embedding as our input features. First, we extract the skill embeddings."
   ]
  },
  {
   "cell_type": "code",
   "execution_count": 41,
   "id": "d20351b5",
   "metadata": {},
   "outputs": [
    {
     "data": {
      "text/html": [
       "<div>\n",
       "<style scoped>\n",
       "    .dataframe tbody tr th:only-of-type {\n",
       "        vertical-align: middle;\n",
       "    }\n",
       "\n",
       "    .dataframe tbody tr th {\n",
       "        vertical-align: top;\n",
       "    }\n",
       "\n",
       "    .dataframe thead th {\n",
       "        text-align: right;\n",
       "    }\n",
       "</style>\n",
       "<table border=\"1\" class=\"dataframe\">\n",
       "  <thead>\n",
       "    <tr style=\"text-align: right;\">\n",
       "      <th></th>\n",
       "      <th>node_embedding</th>\n",
       "      <th>name</th>\n",
       "      <th>np_node_embedding</th>\n",
       "    </tr>\n",
       "  </thead>\n",
       "  <tbody>\n",
       "    <tr>\n",
       "      <th>0</th>\n",
       "      <td>[0.5489298701286316, 0.3204488456249237, 0.138...</td>\n",
       "      <td>3D texturing</td>\n",
       "      <td>[0.5489298701286316, 0.3204488456249237, 0.138...</td>\n",
       "    </tr>\n",
       "    <tr>\n",
       "      <th>1</th>\n",
       "      <td>[0.00836202036589384, 0.42912158370018005, 0.1...</td>\n",
       "      <td>collaborate on international energy projects</td>\n",
       "      <td>[0.00836202036589384, 0.42912158370018005, 0.1...</td>\n",
       "    </tr>\n",
       "    <tr>\n",
       "      <th>2</th>\n",
       "      <td>[0.11850623041391373, 0.2246125340461731, -0.4...</td>\n",
       "      <td>conduct energy audit</td>\n",
       "      <td>[0.11850623041391373, 0.2246125340461731, -0.4...</td>\n",
       "    </tr>\n",
       "    <tr>\n",
       "      <th>3</th>\n",
       "      <td>[-0.2659241557121277, 0.1337600201368332, -0.3...</td>\n",
       "      <td>forecast energy prices</td>\n",
       "      <td>[-0.2659241557121277, 0.1337600201368332, -0.3...</td>\n",
       "    </tr>\n",
       "    <tr>\n",
       "      <th>4</th>\n",
       "      <td>[0.060395434498786926, -0.02005317620933056, -...</td>\n",
       "      <td>develop energy policy</td>\n",
       "      <td>[0.060395434498786926, -0.02005317620933056, -...</td>\n",
       "    </tr>\n",
       "  </tbody>\n",
       "</table>\n",
       "</div>"
      ],
      "text/plain": [
       "                                      node_embedding  \\\n",
       "0  [0.5489298701286316, 0.3204488456249237, 0.138...   \n",
       "1  [0.00836202036589384, 0.42912158370018005, 0.1...   \n",
       "2  [0.11850623041391373, 0.2246125340461731, -0.4...   \n",
       "3  [-0.2659241557121277, 0.1337600201368332, -0.3...   \n",
       "4  [0.060395434498786926, -0.02005317620933056, -...   \n",
       "\n",
       "                                           name  \\\n",
       "0                                  3D texturing   \n",
       "1  collaborate on international energy projects   \n",
       "2                          conduct energy audit   \n",
       "3                        forecast energy prices   \n",
       "4                         develop energy policy   \n",
       "\n",
       "                                   np_node_embedding  \n",
       "0  [0.5489298701286316, 0.3204488456249237, 0.138...  \n",
       "1  [0.00836202036589384, 0.42912158370018005, 0.1...  \n",
       "2  [0.11850623041391373, 0.2246125340461731, -0.4...  \n",
       "3  [-0.2659241557121277, 0.1337600201368332, -0.3...  \n",
       "4  [0.060395434498786926, -0.02005317620933056, -...  "
      ]
     },
     "execution_count": 41,
     "metadata": {},
     "output_type": "execute_result"
    }
   ],
   "source": [
    "skill_embed_df = graph.run(\"\"\"\n",
    "    MATCH (n:skill) RETURN n.embedding AS node_embedding, n.name AS name\n",
    "\"\"\").to_data_frame()\n",
    "np_embed = []\n",
    "for embed in skill_embed_df['node_embedding']:\n",
    "    np_embed.append(np.array(embed))\n",
    "skill_embed_df['np_node_embedding'] = np_embed\n",
    "skill_embed_df.head()"
   ]
  },
  {
   "cell_type": "markdown",
   "id": "f4f5d279",
   "metadata": {},
   "source": [
    "We define a function that returns the average skill embedding over a list of skills."
   ]
  },
  {
   "cell_type": "code",
   "execution_count": null,
   "id": "9f6508b8",
   "metadata": {},
   "outputs": [],
   "source": [
    "def skill_average(skills):\n",
    "    out = np.zeros(len(skill_embed_df['np_node_embedding'][0]))\n",
    "    if not skills:\n",
    "        raise Exception(\"empty skill list\")\n",
    "    for skill in skills:\n",
    "        out += skill_embed_df[skill_embed_df['name']==skill]['np_node_embedding'].item()\n",
    "    out /= len(skills)\n",
    "    return out"
   ]
  },
  {
   "cell_type": "markdown",
   "id": "dc9a1f33",
   "metadata": {},
   "source": [
    "we calculate our input features and put them together with the target in a dataframe."
   ]
  },
  {
   "cell_type": "code",
   "execution_count": 44,
   "id": "f0cebd7a",
   "metadata": {},
   "outputs": [
    {
     "name": "stdout",
     "output_type": "stream",
     "text": [
      "urn:li:member:45220756\n"
     ]
    },
    {
     "data": {
      "text/html": [
       "<div>\n",
       "<style scoped>\n",
       "    .dataframe tbody tr th:only-of-type {\n",
       "        vertical-align: middle;\n",
       "    }\n",
       "\n",
       "    .dataframe tbody tr th {\n",
       "        vertical-align: top;\n",
       "    }\n",
       "\n",
       "    .dataframe thead th {\n",
       "        text-align: right;\n",
       "    }\n",
       "</style>\n",
       "<table border=\"1\" class=\"dataframe\">\n",
       "  <thead>\n",
       "    <tr style=\"text-align: right;\">\n",
       "      <th></th>\n",
       "      <th>input</th>\n",
       "      <th>target</th>\n",
       "    </tr>\n",
       "  </thead>\n",
       "  <tbody>\n",
       "    <tr>\n",
       "      <th>0</th>\n",
       "      <td>[-0.21870011890954946, 0.052411051001399755, -...</td>\n",
       "      <td>[-0.20452773571014404, -0.2671469449996948, 0....</td>\n",
       "    </tr>\n",
       "    <tr>\n",
       "      <th>1</th>\n",
       "      <td>[-0.1959574133933832, -0.08735485766083002, -0...</td>\n",
       "      <td>[-0.4974675476551056, -0.2560517489910126, -0....</td>\n",
       "    </tr>\n",
       "    <tr>\n",
       "      <th>2</th>\n",
       "      <td>[-0.168307424755767, 0.07006224669748917, 0.23...</td>\n",
       "      <td>[-0.8669236898422241, -0.08480484783649445, 0....</td>\n",
       "    </tr>\n",
       "    <tr>\n",
       "      <th>3</th>\n",
       "      <td>[-0.16930374312436297, -0.21841341995501093, 0...</td>\n",
       "      <td>[-0.30899280309677124, -0.2034350484609604, -0...</td>\n",
       "    </tr>\n",
       "    <tr>\n",
       "      <th>4</th>\n",
       "      <td>[-0.26598125681365753, -0.012252261967990886, ...</td>\n",
       "      <td>[-0.6369335651397705, -0.10060270875692368, 0....</td>\n",
       "    </tr>\n",
       "  </tbody>\n",
       "</table>\n",
       "</div>"
      ],
      "text/plain": [
       "                                               input  \\\n",
       "0  [-0.21870011890954946, 0.052411051001399755, -...   \n",
       "1  [-0.1959574133933832, -0.08735485766083002, -0...   \n",
       "2  [-0.168307424755767, 0.07006224669748917, 0.23...   \n",
       "3  [-0.16930374312436297, -0.21841341995501093, 0...   \n",
       "4  [-0.26598125681365753, -0.012252261967990886, ...   \n",
       "\n",
       "                                              target  \n",
       "0  [-0.20452773571014404, -0.2671469449996948, 0....  \n",
       "1  [-0.4974675476551056, -0.2560517489910126, -0....  \n",
       "2  [-0.8669236898422241, -0.08480484783649445, 0....  \n",
       "3  [-0.30899280309677124, -0.2034350484609604, -0...  \n",
       "4  [-0.6369335651397705, -0.10060270875692368, 0....  "
      ]
     },
     "execution_count": 44,
     "metadata": {},
     "output_type": "execute_result"
    }
   ],
   "source": [
    "in_out = []\n",
    "for i,row in person_df.iterrows():\n",
    "    try:\n",
    "        in_ = skill_average(get_person_skills(row['urn']))\n",
    "        out = row['np_node_embedding']\n",
    "    except:\n",
    "        print(row['urn']) #same bug as before\n",
    "    in_out.append([in_,out])\n",
    "test_train_df = pd.DataFrame(in_out,columns=['input','target'])\n",
    "test_train_df.head()"
   ]
  },
  {
   "cell_type": "markdown",
   "id": "12817c60",
   "metadata": {},
   "source": [
    "we divide our data in a test and train set."
   ]
  },
  {
   "cell_type": "code",
   "execution_count": 45,
   "id": "e48d3e7c",
   "metadata": {},
   "outputs": [
    {
     "data": {
      "text/html": [
       "<div>\n",
       "<style scoped>\n",
       "    .dataframe tbody tr th:only-of-type {\n",
       "        vertical-align: middle;\n",
       "    }\n",
       "\n",
       "    .dataframe tbody tr th {\n",
       "        vertical-align: top;\n",
       "    }\n",
       "\n",
       "    .dataframe thead th {\n",
       "        text-align: right;\n",
       "    }\n",
       "</style>\n",
       "<table border=\"1\" class=\"dataframe\">\n",
       "  <thead>\n",
       "    <tr style=\"text-align: right;\">\n",
       "      <th></th>\n",
       "      <th>input</th>\n",
       "      <th>target</th>\n",
       "    </tr>\n",
       "  </thead>\n",
       "  <tbody>\n",
       "    <tr>\n",
       "      <th>87</th>\n",
       "      <td>[0.1105496875881668, 0.22581420391197166, 0.17...</td>\n",
       "      <td>[-0.49598008394241333, 0.4509086608886719, -0....</td>\n",
       "    </tr>\n",
       "    <tr>\n",
       "      <th>4536</th>\n",
       "      <td>[-0.09853066676961524, 0.11116090771697816, -0...</td>\n",
       "      <td>[-0.25406232476234436, 0.11531142145395279, 0....</td>\n",
       "    </tr>\n",
       "    <tr>\n",
       "      <th>5182</th>\n",
       "      <td>[-0.13363898040726782, 0.07888680431991815, -0...</td>\n",
       "      <td>[-0.33244797587394714, 0.103628009557724, -0.0...</td>\n",
       "    </tr>\n",
       "    <tr>\n",
       "      <th>591</th>\n",
       "      <td>[-0.3075718842446804, -0.2966822749003768, -0....</td>\n",
       "      <td>[-0.6144106388092041, -0.3689980208873749, -0....</td>\n",
       "    </tr>\n",
       "    <tr>\n",
       "      <th>5092</th>\n",
       "      <td>[-0.21967409633529875, 0.10524492811125058, 0....</td>\n",
       "      <td>[-0.2541532814502716, -0.029539264738559723, -...</td>\n",
       "    </tr>\n",
       "  </tbody>\n",
       "</table>\n",
       "</div>"
      ],
      "text/plain": [
       "                                                  input  \\\n",
       "87    [0.1105496875881668, 0.22581420391197166, 0.17...   \n",
       "4536  [-0.09853066676961524, 0.11116090771697816, -0...   \n",
       "5182  [-0.13363898040726782, 0.07888680431991815, -0...   \n",
       "591   [-0.3075718842446804, -0.2966822749003768, -0....   \n",
       "5092  [-0.21967409633529875, 0.10524492811125058, 0....   \n",
       "\n",
       "                                                 target  \n",
       "87    [-0.49598008394241333, 0.4509086608886719, -0....  \n",
       "4536  [-0.25406232476234436, 0.11531142145395279, 0....  \n",
       "5182  [-0.33244797587394714, 0.103628009557724, -0.0...  \n",
       "591   [-0.6144106388092041, -0.3689980208873749, -0....  \n",
       "5092  [-0.2541532814502716, -0.029539264738559723, -...  "
      ]
     },
     "execution_count": 45,
     "metadata": {},
     "output_type": "execute_result"
    }
   ],
   "source": [
    "df_train, df_test = train_test_split(test_train_df)\n",
    "df_train.head()"
   ]
  },
  {
   "cell_type": "markdown",
   "id": "153dc050",
   "metadata": {},
   "source": [
    "and train a random forest regressor again. This should be faster than before, as we only have 128 input features now."
   ]
  },
  {
   "cell_type": "code",
   "execution_count": 46,
   "id": "3cbd4262",
   "metadata": {},
   "outputs": [
    {
     "data": {
      "text/plain": [
       "RandomForestRegressor()"
      ]
     },
     "execution_count": 46,
     "metadata": {},
     "output_type": "execute_result"
    }
   ],
   "source": [
    "forest_reg = RandomForestRegressor()\n",
    "forest_reg.fit(df_train['input'].tolist(),df_train['target'].tolist())"
   ]
  },
  {
   "cell_type": "markdown",
   "id": "a2a98a12",
   "metadata": {},
   "source": [
    "We check out the training and test mean squared errors again."
   ]
  },
  {
   "cell_type": "code",
   "execution_count": 47,
   "id": "b6fe88d2",
   "metadata": {},
   "outputs": [
    {
     "name": "stdout",
     "output_type": "stream",
     "text": [
      "mean squared error on test set: 0.03850245108431739\n",
      "mean squared error on training set: 0.00986907482658261\n"
     ]
    }
   ],
   "source": [
    "pred = forest_reg.predict(df_test['input'].tolist())\n",
    "target = df_test['target'].tolist()\n",
    "mse = mean_squared_error(pred,target)\n",
    "pred_train = forest_reg.predict(df_train['input'].tolist())\n",
    "target_train = df_train['target'].tolist()\n",
    "mse_train = mean_squared_error(pred_train,target_train)\n",
    "print(f'mean squared error on test set: {mse}')\n",
    "print(f'mean squared error on training set: {mse_train}')"
   ]
  },
  {
   "cell_type": "markdown",
   "id": "14311de9",
   "metadata": {},
   "source": [
    "Alright, cool! This method works just as well as, if not slightly better than, the one-hot encoded method. We'll probably keep using this in the future and might do some gridsearch on the hyperparameters, as the training time with these input features is not that long."
   ]
  }
 ],
 "metadata": {
  "kernelspec": {
   "display_name": "Python 3 (ipykernel)",
   "language": "python",
   "name": "python3"
  },
  "language_info": {
   "codemirror_mode": {
    "name": "ipython",
    "version": 3
   },
   "file_extension": ".py",
   "mimetype": "text/x-python",
   "name": "python",
   "nbconvert_exporter": "python",
   "pygments_lexer": "ipython3",
   "version": "3.9.9"
  }
 },
 "nbformat": 4,
 "nbformat_minor": 5
}
